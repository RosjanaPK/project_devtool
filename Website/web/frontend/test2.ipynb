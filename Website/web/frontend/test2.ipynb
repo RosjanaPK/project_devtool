{
 "cells": [
  {
   "cell_type": "code",
   "execution_count": 12,
   "metadata": {},
   "outputs": [
    {
     "name": "stdout",
     "output_type": "stream",
     "text": [
      "../frontend/templates/images/Baxter.png\n",
      "../frontend/templates/images/download.png\n",
      "../frontend/templates/images/event_25042566.jpeg\n",
      "../frontend/templates/images/event_26042566_1.jpeg\n",
      "../frontend/templates/images/event_26042566_2.jpeg\n",
      "../frontend/templates/images/firmer.png\n",
      "../frontend/templates/images/form.png\n",
      "../frontend/templates/images/krungsri.jpg\n",
      "../frontend/templates/images/pdf.png\n"
     ]
    }
   ],
   "source": [
    "import os\n",
    "from flask import Flask, render_template, send_file, request, send_from_directory\n",
    "import cv2\n",
    "import requests\n",
    "import base64\n",
    "from fastapi import FastAPI\n",
    "from pydantic import BaseModel\n",
    "import matplotlib.pyplot as plt\n",
    "import numpy as np\n",
    "import cv2\n",
    "import json\n",
    "from PyPDF2 import PdfReader\n",
    "\n",
    "path = 'pdf.png'\n",
    "folder_path = \"../frontend/templates/images/\"\n",
    "for file_name in os.listdir(folder_path):\n",
    "        if(path == file_name):\n",
    "            file_path = os.path.join(folder_path, file_name)\n",
    "            print(file_path)"
   ]
  }
 ],
 "metadata": {
  "kernelspec": {
   "display_name": "Python 3",
   "language": "python",
   "name": "python3"
  },
  "language_info": {
   "codemirror_mode": {
    "name": "ipython",
    "version": 3
   },
   "file_extension": ".py",
   "mimetype": "text/x-python",
   "name": "python",
   "nbconvert_exporter": "python",
   "pygments_lexer": "ipython3",
   "version": "3.11.2"
  },
  "orig_nbformat": 4
 },
 "nbformat": 4,
 "nbformat_minor": 2
}
